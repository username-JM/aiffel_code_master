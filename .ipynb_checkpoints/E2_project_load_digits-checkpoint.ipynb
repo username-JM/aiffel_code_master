{
 "cells": [
  {
   "cell_type": "markdown",
   "metadata": {},
   "source": [
    "# Project load_digits"
   ]
  },
  {
   "cell_type": "code",
   "execution_count": 9,
   "metadata": {},
   "outputs": [],
   "source": [
    "from sklearn.datasets import load_digits\n",
    "from sklearn.model_selection import train_test_split\n",
    "from sklearn.metrics import classification_report\n",
    "from sklearn.metrics import accuracy_score\n",
    "import numpy\n",
    "from sklearn.metrics import confusion_matrix"
   ]
  },
  {
   "cell_type": "code",
   "execution_count": 10,
   "metadata": {},
   "outputs": [],
   "source": [
    "from sklearn.tree import DecisionTreeClassifier\n",
    "from sklearn.ensemble import RandomForestClassifier\n",
    "from sklearn import svm\n",
    "from sklearn.linear_model import SGDClassifier\n",
    "from sklearn.linear_model import LogisticRegression"
   ]
  },
  {
   "cell_type": "code",
   "execution_count": 11,
   "metadata": {},
   "outputs": [
    {
     "name": "stdout",
     "output_type": "stream",
     "text": [
      "[0 1 2 3 4 5 6 7 8 9]\n",
      "{0: 178, 1: 182, 2: 177, 3: 183, 4: 181, 5: 182, 6: 181, 7: 179, 8: 174, 9: 180}\n"
     ]
    }
   ],
   "source": [
    "raw_data = load_digits() # 데이터를 불러온다.\n",
    "\n",
    "pdata = raw_data.data # 특징값만을 뽑아낸다.\n",
    "\n",
    "plabel = raw_data.target # 클래스를 뽑아낸다\n",
    "\n",
    "print(raw_data.target_names)\n",
    "\n",
    "uniq, counts = numpy.unique(plabel, return_counts=True)\n",
    "a = dict(zip(uniq, counts))\n",
    "print(a)\n",
    "\n",
    "# 클래스별로 데이터 분포를 확인해보았다. \n",
    "\n",
    "\n",
    "trainx, testx, trainy, testy = train_test_split(pdata, \n",
    "                                                plabel,\n",
    "                                                test_size = 0.2, \n",
    "                                                random_state = 9)\n",
    "\n",
    "# 데이터를 섞어 trianing, test로 나눈다. 비율은 8:2로 나누었다.\n"
   ]
  },
  {
   "cell_type": "markdown",
   "metadata": {},
   "source": [
    "## Decision Tree"
   ]
  },
  {
   "cell_type": "code",
   "execution_count": 12,
   "metadata": {},
   "outputs": [
    {
     "name": "stdout",
     "output_type": "stream",
     "text": [
      "              precision    recall  f1-score   support\n",
      "\n",
      "           0       1.00      0.88      0.94        33\n",
      "           1       0.79      0.93      0.85        40\n",
      "           2       0.85      0.87      0.86        45\n",
      "           3       0.89      0.97      0.93        34\n",
      "           4       0.91      0.73      0.81        41\n",
      "           5       0.92      0.87      0.89        39\n",
      "           6       0.82      0.97      0.89        29\n",
      "           7       0.75      0.86      0.80        28\n",
      "           8       0.78      0.78      0.78        36\n",
      "           9       0.90      0.74      0.81        35\n",
      "\n",
      "    accuracy                           0.86       360\n",
      "   macro avg       0.86      0.86      0.86       360\n",
      "weighted avg       0.86      0.86      0.86       360\n",
      "\n"
     ]
    }
   ],
   "source": [
    "model = DecisionTreeClassifier(random_state=32)\n",
    "model.fit(trainx, trainy)\n",
    "ans = model.predict(testx)\n",
    "\n",
    "\n",
    "\n",
    "print(classification_report(testy, ans))"
   ]
  },
  {
   "cell_type": "markdown",
   "metadata": {},
   "source": [
    "## Random Forest"
   ]
  },
  {
   "cell_type": "code",
   "execution_count": 13,
   "metadata": {},
   "outputs": [
    {
     "name": "stdout",
     "output_type": "stream",
     "text": [
      "              precision    recall  f1-score   support\n",
      "\n",
      "           0       1.00      0.97      0.98        33\n",
      "           1       1.00      1.00      1.00        40\n",
      "           2       1.00      1.00      1.00        45\n",
      "           3       1.00      1.00      1.00        34\n",
      "           4       0.98      0.98      0.98        41\n",
      "           5       1.00      0.97      0.99        39\n",
      "           6       1.00      1.00      1.00        29\n",
      "           7       0.90      0.96      0.93        28\n",
      "           8       1.00      0.94      0.97        36\n",
      "           9       0.95      1.00      0.97        35\n",
      "\n",
      "    accuracy                           0.98       360\n",
      "   macro avg       0.98      0.98      0.98       360\n",
      "weighted avg       0.98      0.98      0.98       360\n",
      "\n"
     ]
    }
   ],
   "source": [
    "random_forest = RandomForestClassifier(random_state=32)\n",
    "random_forest.fit(trainx, trainy)\n",
    "ans = random_forest.predict(testx)\n",
    "\n",
    "print(classification_report(testy, ans))"
   ]
  },
  {
   "cell_type": "markdown",
   "metadata": {},
   "source": [
    "## SVM"
   ]
  },
  {
   "cell_type": "code",
   "execution_count": 14,
   "metadata": {},
   "outputs": [
    {
     "name": "stdout",
     "output_type": "stream",
     "text": [
      "              precision    recall  f1-score   support\n",
      "\n",
      "           0       1.00      0.97      0.98        33\n",
      "           1       1.00      1.00      1.00        40\n",
      "           2       1.00      1.00      1.00        45\n",
      "           3       1.00      1.00      1.00        34\n",
      "           4       0.98      0.98      0.98        41\n",
      "           5       1.00      0.97      0.99        39\n",
      "           6       1.00      1.00      1.00        29\n",
      "           7       1.00      0.96      0.98        28\n",
      "           8       1.00      1.00      1.00        36\n",
      "           9       0.92      1.00      0.96        35\n",
      "\n",
      "    accuracy                           0.99       360\n",
      "   macro avg       0.99      0.99      0.99       360\n",
      "weighted avg       0.99      0.99      0.99       360\n",
      "\n"
     ]
    }
   ],
   "source": [
    "svm_model = svm.SVC()\n",
    "\n",
    "svm_model.fit(trainx, trainy)\n",
    "ans = svm_model.predict(testx)\n",
    "\n",
    "print(classification_report(testy, ans))"
   ]
  },
  {
   "cell_type": "markdown",
   "metadata": {},
   "source": [
    "## SGD"
   ]
  },
  {
   "cell_type": "code",
   "execution_count": 15,
   "metadata": {},
   "outputs": [
    {
     "name": "stdout",
     "output_type": "stream",
     "text": [
      "              precision    recall  f1-score   support\n",
      "\n",
      "           0       1.00      0.97      0.98        33\n",
      "           1       0.93      0.95      0.94        40\n",
      "           2       1.00      1.00      1.00        45\n",
      "           3       1.00      0.94      0.97        34\n",
      "           4       0.95      0.95      0.95        41\n",
      "           5       1.00      0.95      0.97        39\n",
      "           6       1.00      1.00      1.00        29\n",
      "           7       0.93      0.89      0.91        28\n",
      "           8       0.97      0.86      0.91        36\n",
      "           9       0.80      1.00      0.89        35\n",
      "\n",
      "    accuracy                           0.95       360\n",
      "   macro avg       0.96      0.95      0.95       360\n",
      "weighted avg       0.96      0.95      0.95       360\n",
      "\n"
     ]
    }
   ],
   "source": [
    "sgd_model = SGDClassifier()\n",
    "sgd_model.fit(trainx, trainy)\n",
    "ans = sgd_model.predict(testx)\n",
    "\n",
    "\n",
    "\n",
    "print(classification_report(testy, ans))\n"
   ]
  },
  {
   "cell_type": "markdown",
   "metadata": {},
   "source": [
    "## logistic Regression"
   ]
  },
  {
   "cell_type": "code",
   "execution_count": 16,
   "metadata": {},
   "outputs": [
    {
     "name": "stdout",
     "output_type": "stream",
     "text": [
      "              precision    recall  f1-score   support\n",
      "\n",
      "           0       1.00      0.97      0.98        33\n",
      "           1       0.93      0.95      0.94        40\n",
      "           2       1.00      0.98      0.99        45\n",
      "           3       0.97      0.94      0.96        34\n",
      "           4       0.95      0.95      0.95        41\n",
      "           5       0.95      0.95      0.95        39\n",
      "           6       0.97      1.00      0.98        29\n",
      "           7       0.96      0.93      0.95        28\n",
      "           8       0.94      0.94      0.94        36\n",
      "           9       0.92      0.97      0.94        35\n",
      "\n",
      "    accuracy                           0.96       360\n",
      "   macro avg       0.96      0.96      0.96       360\n",
      "weighted avg       0.96      0.96      0.96       360\n",
      "\n"
     ]
    }
   ],
   "source": [
    "logistic_model = LogisticRegression()\n",
    "logistic_model.max_iter = 5000\n",
    "logistic_model.fit(trainx, trainy)\n",
    "ans = logistic_model.predict(testx)\n",
    "\n",
    "\n",
    "print(classification_report(testy, ans))"
   ]
  },
  {
   "cell_type": "markdown",
   "metadata": {},
   "source": [
    "# Performance Metrics\n",
    "\n",
    "각 클래스 별 데이터 수도 거의 균등하고, 특별히 precision or recall의 필요성이 없으므로 단순히 Acc를 비교해도 괜찮다고 생각한다."
   ]
  }
 ],
 "metadata": {
  "kernelspec": {
   "display_name": "Aiffel",
   "language": "python",
   "name": "aiffel"
  },
  "language_info": {
   "codemirror_mode": {
    "name": "ipython",
    "version": 3
   },
   "file_extension": ".py",
   "mimetype": "text/x-python",
   "name": "python",
   "nbconvert_exporter": "python",
   "pygments_lexer": "ipython3",
   "version": "3.7.6"
  }
 },
 "nbformat": 4,
 "nbformat_minor": 4
}
