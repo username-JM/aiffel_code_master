{
 "cells": [
  {
   "cell_type": "markdown",
   "metadata": {},
   "source": [
    "# About floating point(부동소수점)\n",
    "\n",
    "\n",
    "부동소수점은 컴퓨터가 소수(ex 12.88)를 표현하는 방식이다. \n",
    "\n",
    "그 방법은 다음과 같다.\n",
    "1. 소수를 2진수로 표현.\n",
    "2. 부호 비트, 지수부, 가수부로 구분.\n",
    "3. 각 파트 별로 변환\n",
    "\n",
    "[변환사이트](https://www.h-schmidt.net/FloatConverter/IEEE754.html)"
   ]
  },
  {
   "cell_type": "markdown",
   "metadata": {},
   "source": [
    "### 1. 소수 to 2진수\n",
    "\n",
    "우선 소수를 2진수로 표현해보자.\n",
    "일반적으로 사용하는 소수는 정수부와 실수부로 구분된다.\n",
    "정수부의 2진수 변환은 잘 알려져 있기 때문에 생략하고,\n",
    "소수부의 2진 변환은 어떻게 하는걸까?\n",
    "\n",
    "- **소수점을 2진수로 나타내는법**\n",
    "\n",
    "> Ex) 0.625\n",
    "> 1. 2를 곱한다\n",
    "    0.625 * 2 = 1.25 (1은 소수자리로, 나머지 0.25는 다시 연산)   \n",
    "    나온 소수점 1\n",
    "> 2. 정수부를 소수점 첫째자리로.\n",
    "> 3. 반복한다.\n",
    "\n",
    ">    0.25 * 2 = 0.5 (0은 소수자리로, 나머지 0.5는 다시 연산) -> 나온 소수점 10    \n",
    ">    0.5 * 2 = 1.0 (1은 소수자리로, 나머지 0.0이므로 종료)-> 소수점 :101"
   ]
  },
  {
   "cell_type": "markdown",
   "metadata": {},
   "source": [
    "## 2. Sign, Exponent, Mantissa\n",
    "\n",
    "\n",
    "\n"
   ]
  },
  {
   "cell_type": "markdown",
   "metadata": {},
   "source": [
    "## 지수부에 Bias (127)을 더하는 이유는?\n",
    "\n",
    "32비트 부동소수점 표현에 지수부는 8비트를 차지한다.   \n",
    "단순히 생각하면 0000 0000 = 0을 표현한다 생각할 수 있는데   \n",
    "사실 0은 0111 1111로 표현된다(IEEE 754 standard).   \n",
    "즉 bias = 127를 더해준 표현을 사용하는데 왜그런지 생각해보자.   \n",
    "지수부는 2^x에서 x를 표현하게 된다. 이때 지수는 음의 값, 양의 값 모두 가질 수 있다. (8비트이므로 -127 ~ 128)   \n",
    "하지만 지수부는 sign bit가 정의되지 않기 때문에 127만큼의 bias를 더해줘서 지수부를 따로 설정하지 않고   \n",
    "\n",
    "> 0000 0000 = -127   \n",
    "> 1111 1111 = 128\n",
    "\n",
    "이렇게 표현할 수 있는 것이다.   \n",
    "그럼 왜 sign bit를 안쓸까??   \n",
    "지수부를 프로그램이 읽을 때 부호 비트를 따로 처리하지 않아도 된다는 간결함 때문에?   \n",
    "~잘 모르겠다.~\n"
   ]
  },
  {
   "cell_type": "code",
   "execution_count": null,
   "metadata": {},
   "outputs": [],
   "source": []
  },
  {
   "cell_type": "code",
   "execution_count": null,
   "metadata": {},
   "outputs": [],
   "source": []
  }
 ],
 "metadata": {
  "kernelspec": {
   "display_name": "Python 3",
   "language": "python",
   "name": "python3"
  },
  "language_info": {
   "codemirror_mode": {
    "name": "ipython",
    "version": 3
   },
   "file_extension": ".py",
   "mimetype": "text/x-python",
   "name": "python",
   "nbconvert_exporter": "python",
   "pygments_lexer": "ipython3",
   "version": "3.7.6"
  }
 },
 "nbformat": 4,
 "nbformat_minor": 4
}
