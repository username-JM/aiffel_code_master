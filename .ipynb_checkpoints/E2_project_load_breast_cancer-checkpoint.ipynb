{
 "cells": [
  {
   "cell_type": "markdown",
   "metadata": {},
   "source": [
    "# Project load_breast_cancer"
   ]
  },
  {
   "cell_type": "code",
   "execution_count": 89,
   "metadata": {},
   "outputs": [],
   "source": [
    "from sklearn.datasets import load_breast_cancer\n",
    "from sklearn.model_selection import train_test_split\n",
    "from sklearn.metrics import classification_report\n",
    "from sklearn.metrics import accuracy_score\n",
    "import numpy\n",
    "from sklearn.metrics import confusion_matrix"
   ]
  },
  {
   "cell_type": "code",
   "execution_count": 90,
   "metadata": {},
   "outputs": [],
   "source": [
    "from sklearn.tree import DecisionTreeClassifier\n",
    "from sklearn.ensemble import RandomForestClassifier\n",
    "from sklearn import svm\n",
    "from sklearn.linear_model import SGDClassifier\n",
    "from sklearn.linear_model import LogisticRegression"
   ]
  },
  {
   "cell_type": "code",
   "execution_count": 92,
   "metadata": {},
   "outputs": [
    {
     "name": "stdout",
     "output_type": "stream",
     "text": [
      "['malignant' 'benign']\n",
      "{0: 212, 1: 357}\n"
     ]
    }
   ],
   "source": [
    "raw_data = load_breast_cancer() # 데이터를 불러온다.\n",
    "\n",
    "pdata = raw_data.data # 특징값만을 뽑아낸다.\n",
    "\n",
    "plabel = raw_data.target # 클래스를 뽑아낸다\n",
    "\n",
    "print(raw_data.target_names)\n",
    "\n",
    "uniq, counts = numpy.unique(plabel, return_counts=True)\n",
    "a = dict(zip(uniq, counts))\n",
    "print(a)\n",
    "\n",
    "# 클래스별로 데이터 분포를 확인해보았다. \n",
    "\n",
    "\n",
    "trainx, testx, trainy, testy = train_test_split(pdata, \n",
    "                                                plabel,\n",
    "                                                test_size = 0.2, \n",
    "                                                random_state = 9)\n",
    "\n",
    "# 데이터를 섞어 trianing, test로 나눈다. 비율은 8:2로 나누었다.\n"
   ]
  },
  {
   "cell_type": "markdown",
   "metadata": {},
   "source": [
    "## Decision Tree"
   ]
  },
  {
   "cell_type": "code",
   "execution_count": 93,
   "metadata": {},
   "outputs": [
    {
     "name": "stdout",
     "output_type": "stream",
     "text": [
      "              precision    recall  f1-score   support\n",
      "\n",
      "           0       0.92      0.85      0.88        40\n",
      "           1       0.92      0.96      0.94        74\n",
      "\n",
      "    accuracy                           0.92       114\n",
      "   macro avg       0.92      0.90      0.91       114\n",
      "weighted avg       0.92      0.92      0.92       114\n",
      "\n"
     ]
    }
   ],
   "source": [
    "model = DecisionTreeClassifier(random_state=32)\n",
    "model.fit(trainx, trainy)\n",
    "ans = model.predict(testx)\n",
    "\n",
    "\n",
    "\n",
    "print(classification_report(testy, ans))"
   ]
  },
  {
   "cell_type": "markdown",
   "metadata": {},
   "source": [
    "## Random Forest"
   ]
  },
  {
   "cell_type": "code",
   "execution_count": 94,
   "metadata": {},
   "outputs": [
    {
     "name": "stdout",
     "output_type": "stream",
     "text": [
      "              precision    recall  f1-score   support\n",
      "\n",
      "           0       1.00      0.88      0.93        40\n",
      "           1       0.94      1.00      0.97        74\n",
      "\n",
      "    accuracy                           0.96       114\n",
      "   macro avg       0.97      0.94      0.95       114\n",
      "weighted avg       0.96      0.96      0.96       114\n",
      "\n"
     ]
    }
   ],
   "source": [
    "random_forest = RandomForestClassifier(random_state=32)\n",
    "random_forest.fit(trainx, trainy)\n",
    "ans = random_forest.predict(testx)\n",
    "\n",
    "print(classification_report(testy, ans))"
   ]
  },
  {
   "cell_type": "markdown",
   "metadata": {},
   "source": [
    "## SVM"
   ]
  },
  {
   "cell_type": "code",
   "execution_count": 95,
   "metadata": {},
   "outputs": [
    {
     "name": "stdout",
     "output_type": "stream",
     "text": [
      "              precision    recall  f1-score   support\n",
      "\n",
      "           0       1.00      0.75      0.86        40\n",
      "           1       0.88      1.00      0.94        74\n",
      "\n",
      "    accuracy                           0.91       114\n",
      "   macro avg       0.94      0.88      0.90       114\n",
      "weighted avg       0.92      0.91      0.91       114\n",
      "\n"
     ]
    }
   ],
   "source": [
    "svm_model = svm.SVC()\n",
    "\n",
    "svm_model.fit(trainx, trainy)\n",
    "ans = svm_model.predict(testx)\n",
    "\n",
    "print(classification_report(testy, ans))"
   ]
  },
  {
   "cell_type": "markdown",
   "metadata": {},
   "source": [
    "## SGD"
   ]
  },
  {
   "cell_type": "code",
   "execution_count": 96,
   "metadata": {},
   "outputs": [
    {
     "name": "stdout",
     "output_type": "stream",
     "text": [
      "              precision    recall  f1-score   support\n",
      "\n",
      "           0       1.00      0.68      0.81        40\n",
      "           1       0.85      1.00      0.92        74\n",
      "\n",
      "    accuracy                           0.89       114\n",
      "   macro avg       0.93      0.84      0.86       114\n",
      "weighted avg       0.90      0.89      0.88       114\n",
      "\n"
     ]
    }
   ],
   "source": [
    "sgd_model = SGDClassifier()\n",
    "sgd_model.fit(trainx, trainy)\n",
    "ans = sgd_model.predict(testx)\n",
    "\n",
    "\n",
    "\n",
    "print(classification_report(testy, ans))\n"
   ]
  },
  {
   "cell_type": "markdown",
   "metadata": {},
   "source": [
    "## logistic Regression"
   ]
  },
  {
   "cell_type": "code",
   "execution_count": 97,
   "metadata": {},
   "outputs": [
    {
     "name": "stdout",
     "output_type": "stream",
     "text": [
      "              precision    recall  f1-score   support\n",
      "\n",
      "           0       0.97      0.85      0.91        40\n",
      "           1       0.92      0.99      0.95        74\n",
      "\n",
      "    accuracy                           0.94       114\n",
      "   macro avg       0.95      0.92      0.93       114\n",
      "weighted avg       0.94      0.94      0.94       114\n",
      "\n"
     ]
    }
   ],
   "source": [
    "logistic_model = LogisticRegression()\n",
    "logistic_model.max_iter = 5000\n",
    "logistic_model.fit(trainx, trainy)\n",
    "ans = logistic_model.predict(testx)\n",
    "\n",
    "\n",
    "print(classification_report(testy, ans))"
   ]
  },
  {
   "cell_type": "markdown",
   "metadata": {},
   "source": [
    "# Performance Metrics\n",
    "\n",
    "유방암인 경우, 이를 양성 음성 분류하는 성능 역시 중요하지만\n",
    "Recall 지표가 중요하다. Recall은 TP/TP+FN 이며, FN, 즉 true인데 false라고 한 비율이 낮을수록 값이 커진다.\n",
    "\n",
    "즉 유방암인데 유방암이 아니라고 한 비율 = FN이며, 이 값이 높으면 암인지 모르고 병원 문밖을 나갈 암환자가 많다는 의미이므로 큰일난다!\n",
    "\n"
   ]
  }
 ],
 "metadata": {
  "kernelspec": {
   "display_name": "Aiffel",
   "language": "python",
   "name": "aiffel"
  },
  "language_info": {
   "codemirror_mode": {
    "name": "ipython",
    "version": 3
   },
   "file_extension": ".py",
   "mimetype": "text/x-python",
   "name": "python",
   "nbconvert_exporter": "python",
   "pygments_lexer": "ipython3",
   "version": "3.7.6"
  }
 },
 "nbformat": 4,
 "nbformat_minor": 4
}
