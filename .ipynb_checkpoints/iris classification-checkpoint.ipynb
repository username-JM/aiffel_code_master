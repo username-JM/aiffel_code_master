{
 "cells": [
  {
   "cell_type": "markdown",
   "metadata": {},
   "source": [
    "# Iris Classification"
   ]
  },
  {
   "cell_type": "markdown",
   "metadata": {},
   "source": [
    "## 1. data loading"
   ]
  },
  {
   "cell_type": "code",
   "execution_count": 52,
   "metadata": {},
   "outputs": [],
   "source": [
    "from sklearn.datasets import load_iris\n",
    "\n",
    "iris = load_iris() #데이터 불러오기\n",
    "\n",
    "    #iris.keys() # 데이터에 담긴 정보들 ex) 데이터, 클래스, 클래스 이름, 경로 등등\n",
    "\n",
    "iris_data = iris.data #실제 필요한 값들을 따로 저장\n",
    "\n",
    "    #iris_data.shape - (데이터수, 특징점 수) \n",
    "\n",
    "iris_label = iris.target #데이터의 클래스 정보를 따로 저장\n",
    "\n",
    "\n",
    "    #iris.target_names - 클래스 명 출력\n",
    "\n",
    "    #iris.feature_names - 특징점 이름 출력"
   ]
  },
  {
   "cell_type": "markdown",
   "metadata": {},
   "source": [
    "## 2. pre-processing"
   ]
  },
  {
   "cell_type": "code",
   "execution_count": 53,
   "metadata": {},
   "outputs": [],
   "source": [
    "import pandas as pd\n",
    "from sklearn.model_selection import train_test_split\n",
    "\n",
    "iris_df = pd.DataFrame(data=iris_data, columns=iris.feature_names)\n",
    "\n",
    "    # 데이터를 표로 만들어준다 (row : 데이터, col : 특징점)\n",
    "\n",
    "iris_df[\"label\"] = iris.target # 표에 클래스 정보 추가\n",
    "\n",
    "X_train, X_test, y_train, y_test = train_test_split(iris_data, \n",
    "                                                    iris_label, \n",
    "                                                    test_size=0.2, \n",
    "                                                    random_state=7)\n",
    "\n",
    "    # 데이터를 training set : test set으로 랜덤하게 섞어준다. \n",
    "    # test_size : 테스트 데이터 비율, random_state : 랜덤시드)\n"
   ]
  },
  {
   "cell_type": "markdown",
   "metadata": {},
   "source": [
    "## 3. model training"
   ]
  },
  {
   "cell_type": "code",
   "execution_count": 54,
   "metadata": {},
   "outputs": [
    {
     "data": {
      "text/plain": [
       "DecisionTreeClassifier(random_state=32)"
      ]
     },
     "execution_count": 54,
     "metadata": {},
     "output_type": "execute_result"
    }
   ],
   "source": [
    "from sklearn.tree import DecisionTreeClassifier\n",
    "\n",
    "decision_tree = DecisionTreeClassifier(random_state=32) #분류기 호출\n",
    "\n",
    "decision_tree.fit(X_train, y_train) #학습"
   ]
  },
  {
   "cell_type": "markdown",
   "metadata": {},
   "source": [
    "## 4. model evaluation"
   ]
  },
  {
   "cell_type": "code",
   "execution_count": 55,
   "metadata": {},
   "outputs": [
    {
     "data": {
      "text/plain": [
       "0.9"
      ]
     },
     "execution_count": 55,
     "metadata": {},
     "output_type": "execute_result"
    }
   ],
   "source": [
    "from sklearn.metrics import accuracy_score\n",
    "\n",
    "y_pred = decision_tree.predict(X_test) #테스트 데이터를 넣어 나온 예측결과\n",
    "accuracy = accuracy_score(y_test, y_pred) #예측결과와 정답을 비교하여 정확도 측정\n",
    "accuracy"
   ]
  }
 ],
 "metadata": {
  "kernelspec": {
   "display_name": "Aiffel",
   "language": "python",
   "name": "aiffel"
  },
  "language_info": {
   "codemirror_mode": {
    "name": "ipython",
    "version": 3
   },
   "file_extension": ".py",
   "mimetype": "text/x-python",
   "name": "python",
   "nbconvert_exporter": "python",
   "pygments_lexer": "ipython3",
   "version": "3.7.6"
  }
 },
 "nbformat": 4,
 "nbformat_minor": 4
}
