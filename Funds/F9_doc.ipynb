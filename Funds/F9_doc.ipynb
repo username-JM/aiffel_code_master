{
 "cells": [
  {
   "cell_type": "markdown",
   "metadata": {},
   "source": [
    "## 1. Multiprocessing"
   ]
  },
  {
   "cell_type": "code",
   "execution_count": 3,
   "metadata": {},
   "outputs": [
    {
     "name": "stdout",
     "output_type": "stream",
     "text": [
      "finish :  p1\n",
      "finish :  p2\n",
      "finish :  p4\n",
      "finish :  p3\n",
      "time : 2.3131520748138428\n"
     ]
    }
   ],
   "source": [
    "import multiprocessing\n",
    "import time\n",
    "\n",
    "num_list = ['p1','p2', 'p3', 'p4']\n",
    "start = time.time()\n",
    "\n",
    "def count(name):\n",
    "    for i in range(0, 100000000):\n",
    "            a=1+2\n",
    "    print(\"finish : \",name)\n",
    "    \n",
    "\n",
    "if __name__ == '__main__': #여기서 부터 멀티프로세싱 시작\n",
    "    pool = multiprocessing.Pool(processes = 4) #4개의 코어로 실행\n",
    "    pool.map(count, num_list) #실행할 함수와 인자를 매핑한다.\n",
    "    pool.close() #멀티프로세싱 끝\n",
    "    pool.join() #다른 프로세스의 종료를 기다린다\n",
    "\n",
    "print(\"time :\", time.time() - start)"
   ]
  },
  {
   "cell_type": "markdown",
   "metadata": {},
   "source": [
    "## 2. Lambda Expression\n",
    "\n",
    "런타임시 함수를 정의할 수 있는 파이썬 기법.\n",
    "\n"
   ]
  },
  {
   "cell_type": "code",
   "execution_count": 10,
   "metadata": {},
   "outputs": [
    {
     "name": "stdout",
     "output_type": "stream",
     "text": [
      "5\n",
      "5\n"
     ]
    }
   ],
   "source": [
    "#ex1)\n",
    "\n",
    "def add_func(x,y):\n",
    "    return x+y\n",
    "\n",
    "print(add_func(2,3))\n",
    "\n",
    "print((lambda x,y:x+y) (2,3))\n",
    "\n",
    "# (lambda arg1, arg2 : algorithm)(arg1, arg2)"
   ]
  },
  {
   "cell_type": "code",
   "execution_count": null,
   "metadata": {},
   "outputs": [],
   "source": []
  }
 ],
 "metadata": {
  "kernelspec": {
   "display_name": "Aiffel",
   "language": "python",
   "name": "aiffel"
  },
  "language_info": {
   "codemirror_mode": {
    "name": "ipython",
    "version": 3
   },
   "file_extension": ".py",
   "mimetype": "text/x-python",
   "name": "python",
   "nbconvert_exporter": "python",
   "pygments_lexer": "ipython3",
   "version": "3.7.6"
  }
 },
 "nbformat": 4,
 "nbformat_minor": 4
}
