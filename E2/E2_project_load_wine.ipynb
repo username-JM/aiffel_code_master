{
 "cells": [
  {
   "cell_type": "markdown",
   "metadata": {},
   "source": [
    "# Project load_wine"
   ]
  },
  {
   "cell_type": "code",
   "execution_count": 1,
   "metadata": {},
   "outputs": [],
   "source": [
    "from sklearn.datasets import load_wine\n",
    "from sklearn.model_selection import train_test_split\n",
    "from sklearn.metrics import classification_report\n",
    "from sklearn.metrics import accuracy_score\n",
    "import numpy\n",
    "from sklearn.metrics import confusion_matrix"
   ]
  },
  {
   "cell_type": "code",
   "execution_count": 2,
   "metadata": {},
   "outputs": [],
   "source": [
    "from sklearn.tree import DecisionTreeClassifier\n",
    "from sklearn.ensemble import RandomForestClassifier\n",
    "from sklearn import svm\n",
    "from sklearn.linear_model import SGDClassifier\n",
    "from sklearn.linear_model import LogisticRegression"
   ]
  },
  {
   "cell_type": "code",
   "execution_count": 3,
   "metadata": {},
   "outputs": [
    {
     "name": "stdout",
     "output_type": "stream",
     "text": [
      "['class_0' 'class_1' 'class_2']\n",
      "{0: 59, 1: 71, 2: 48}\n"
     ]
    }
   ],
   "source": [
    "raw_data = load_wine() # 데이터를 불러온다.\n",
    "\n",
    "pdata = raw_data.data # 특징값만을 뽑아낸다.\n",
    "\n",
    "plabel = raw_data.target # 클래스를 뽑아낸다\n",
    "\n",
    "print(raw_data.target_names)\n",
    "\n",
    "uniq, counts = numpy.unique(plabel, return_counts=True)\n",
    "a = dict(zip(uniq, counts))\n",
    "print(a)\n",
    "\n",
    "# 클래스별로 데이터 분포를 확인해보았다. \n",
    "\n",
    "\n",
    "trainx, testx, trainy, testy = train_test_split(pdata, \n",
    "                                                plabel,\n",
    "                                                test_size = 0.2, \n",
    "                                                random_state = 9)\n",
    "\n",
    "# 데이터를 섞어 trianing, test로 나눈다. 비율은 8:2로 나누었다.\n"
   ]
  },
  {
   "cell_type": "markdown",
   "metadata": {},
   "source": [
    "## Decision Tree"
   ]
  },
  {
   "cell_type": "code",
   "execution_count": 4,
   "metadata": {},
   "outputs": [
    {
     "name": "stdout",
     "output_type": "stream",
     "text": [
      "              precision    recall  f1-score   support\n",
      "\n",
      "           0       1.00      0.94      0.97        17\n",
      "           1       0.92      1.00      0.96        11\n",
      "           2       1.00      1.00      1.00         8\n",
      "\n",
      "    accuracy                           0.97        36\n",
      "   macro avg       0.97      0.98      0.98        36\n",
      "weighted avg       0.97      0.97      0.97        36\n",
      "\n"
     ]
    }
   ],
   "source": [
    "model = DecisionTreeClassifier(random_state=32)\n",
    "model.fit(trainx, trainy)\n",
    "ans = model.predict(testx)\n",
    "\n",
    "\n",
    "\n",
    "print(classification_report(testy, ans))"
   ]
  },
  {
   "cell_type": "markdown",
   "metadata": {},
   "source": [
    "## Random Forest"
   ]
  },
  {
   "cell_type": "code",
   "execution_count": 5,
   "metadata": {},
   "outputs": [
    {
     "name": "stdout",
     "output_type": "stream",
     "text": [
      "              precision    recall  f1-score   support\n",
      "\n",
      "           0       1.00      1.00      1.00        17\n",
      "           1       1.00      1.00      1.00        11\n",
      "           2       1.00      1.00      1.00         8\n",
      "\n",
      "    accuracy                           1.00        36\n",
      "   macro avg       1.00      1.00      1.00        36\n",
      "weighted avg       1.00      1.00      1.00        36\n",
      "\n"
     ]
    }
   ],
   "source": [
    "random_forest = RandomForestClassifier(random_state=32)\n",
    "random_forest.fit(trainx, trainy)\n",
    "ans = random_forest.predict(testx)\n",
    "\n",
    "print(classification_report(testy, ans))"
   ]
  },
  {
   "cell_type": "markdown",
   "metadata": {},
   "source": [
    "## SVM"
   ]
  },
  {
   "cell_type": "code",
   "execution_count": 6,
   "metadata": {},
   "outputs": [
    {
     "name": "stdout",
     "output_type": "stream",
     "text": [
      "              precision    recall  f1-score   support\n",
      "\n",
      "           0       0.94      0.94      0.94        17\n",
      "           1       0.67      0.73      0.70        11\n",
      "           2       0.43      0.38      0.40         8\n",
      "\n",
      "    accuracy                           0.75        36\n",
      "   macro avg       0.68      0.68      0.68        36\n",
      "weighted avg       0.74      0.75      0.75        36\n",
      "\n"
     ]
    }
   ],
   "source": [
    "svm_model = svm.SVC()\n",
    "\n",
    "svm_model.fit(trainx, trainy)\n",
    "ans = svm_model.predict(testx)\n",
    "\n",
    "print(classification_report(testy, ans))"
   ]
  },
  {
   "cell_type": "markdown",
   "metadata": {},
   "source": [
    "## SGD"
   ]
  },
  {
   "cell_type": "code",
   "execution_count": 7,
   "metadata": {},
   "outputs": [
    {
     "name": "stdout",
     "output_type": "stream",
     "text": [
      "              precision    recall  f1-score   support\n",
      "\n",
      "           0       1.00      0.12      0.21        17\n",
      "           1       1.00      0.18      0.31        11\n",
      "           2       0.25      1.00      0.40         8\n",
      "\n",
      "    accuracy                           0.33        36\n",
      "   macro avg       0.75      0.43      0.31        36\n",
      "weighted avg       0.83      0.33      0.28        36\n",
      "\n"
     ]
    }
   ],
   "source": [
    "sgd_model = SGDClassifier()\n",
    "sgd_model.fit(trainx, trainy)\n",
    "ans = sgd_model.predict(testx)\n",
    "\n",
    "\n",
    "\n",
    "print(classification_report(testy, ans))\n"
   ]
  },
  {
   "cell_type": "markdown",
   "metadata": {},
   "source": [
    "## logistic Regression"
   ]
  },
  {
   "cell_type": "code",
   "execution_count": 8,
   "metadata": {},
   "outputs": [
    {
     "name": "stdout",
     "output_type": "stream",
     "text": [
      "              precision    recall  f1-score   support\n",
      "\n",
      "           0       1.00      1.00      1.00        17\n",
      "           1       1.00      1.00      1.00        11\n",
      "           2       1.00      1.00      1.00         8\n",
      "\n",
      "    accuracy                           1.00        36\n",
      "   macro avg       1.00      1.00      1.00        36\n",
      "weighted avg       1.00      1.00      1.00        36\n",
      "\n"
     ]
    }
   ],
   "source": [
    "logistic_model = LogisticRegression()\n",
    "logistic_model.max_iter = 5000\n",
    "logistic_model.fit(trainx, trainy)\n",
    "ans = logistic_model.predict(testx)\n",
    "\n",
    "\n",
    "print(classification_report(testy, ans))"
   ]
  },
  {
   "cell_type": "markdown",
   "metadata": {},
   "source": [
    "## Performance Metrics\n",
    "\n",
    "\n",
    "클래스 별 데이터 수가 균등하지 않아서 confusion matrix에 나오는 지표들 중 딱히 precision이나 recall을 고려할 사항이 아니라서 F1-score을 지표로 사용하였다."
   ]
  }
 ],
 "metadata": {
  "kernelspec": {
   "display_name": "Aiffel",
   "language": "python",
   "name": "aiffel"
  },
  "language_info": {
   "codemirror_mode": {
    "name": "ipython",
    "version": 3
   },
   "file_extension": ".py",
   "mimetype": "text/x-python",
   "name": "python",
   "nbconvert_exporter": "python",
   "pygments_lexer": "ipython3",
   "version": "3.7.6"
  }
 },
 "nbformat": 4,
 "nbformat_minor": 4
}
