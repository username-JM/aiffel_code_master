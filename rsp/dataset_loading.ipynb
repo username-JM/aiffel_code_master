{
 "cells": [
  {
   "cell_type": "code",
   "execution_count": 2,
   "metadata": {},
   "outputs": [],
   "source": [
    "# pip install pillow   \n",
    "\n",
    "from PIL import Image\n",
    "import os, glob\nimport numpy as np\n"
   ]
  },
  {
   "cell_type": "markdown",
   "metadata": {},
   "source": [
    "# Train dataset 불러오기 & Resizing\n",
    "\n",
    "- 경로 : *\"데이터 저장 장소/rsp/(SSS or RRR or PPP)\"*"
   ]
  },
  {
   "cell_type": "code",
   "execution_count": 3,
   "metadata": {},
   "outputs": [],
   "source": [
    "# 가위 이미지가 저장된 디렉토리 아래의 모든 jpg 파일을 읽어들여서\n",
    "image_dir_path = os.getenv(\"HOME\") + \"/rsp/SSS\"\n",
    "\n",
    "images=glob.glob(image_dir_path + \"/*.jpg\")  \n",
    "\n",
    "# resize -> (28,28) for all images\n",
    "target_size=(28,28)\n",
    "for img in images:\n",
    "    old_img=Image.open(img)\n",
    "    new_img=old_img.resize(target_size,Image.ANTIALIAS)\n",
    "    new_img.save(img,\"JPEG\")\n",
    "\n",
    "\n",
    "####################################################\n",
    "\n",
    "image_dir_path = os.getenv(\"HOME\") + \"/rsp/RRR\"\n",
    "\n",
    "images=glob.glob(image_dir_path + \"/*.jpg\")  \n",
    "\n",
    "# resize -> (28,28) for all images\n",
    "target_size=(28,28)\n",
    "for img in images:\n",
    "    old_img=Image.open(img)\n",
    "    new_img=old_img.resize(target_size,Image.ANTIALIAS)\n",
    "    new_img.save(img,\"JPEG\")\n",
    "\n",
    "\n",
    "####################################################\n",
    "\n",
    "image_dir_path = os.getenv(\"HOME\") + \"/rsp/PPP\"\n",
    "\n",
    "images=glob.glob(image_dir_path + \"/*.jpg\")  \n",
    "\n",
    "# resize -> (28,28) for all images\n",
    "target_size=(28,28)\n",
    "for img in images:\n",
    "    old_img=Image.open(img)\n",
    "    new_img=old_img.resize(target_size,Image.ANTIALIAS)\n",
    "    new_img.save(img,\"JPEG\")\n"
   ]
  },
  {
   "cell_type": "markdown",
   "metadata": {},
   "source": [
    "# Labeling of the training dataset"
   ]
  },
  {
   "cell_type": "code",
   "execution_count": null,
   "metadata": {},
   "outputs": [],
   "source": [
    "##################################################################################\n",
    "def load_data(img_path):\n",
    "    # scissor = 0, rock = 1, paper = 2\n",
    "    \n",
    "    number_of_data=307+301+327   # total number of training set\n",
    "    img_size=28 #image size\n",
    "    color=3 #size of color channel \n",
    "    \n",
    "    \n",
    "    #이미지 데이터와 라벨(가위 : 0, 바위 : 1, 보 : 2) 데이터를 담을 행렬(matrix) 영역을 생성합니다.\n",
    "    \n",
    "    imgs=np.zeros(number_of_data*img_size*img_size*color,dtype=np.int32).reshape(number_of_data,img_size,img_size,color)\n",
    "    labels=np.zeros(number_of_data,dtype=np.int32)\n",
    "\n",
    "    idx=0\n",
    "    \n",
    "    for file in glob.iglob(img_path+'/SSS/*.jpg'):\n",
    "        img = np.array(Image.open(file),dtype=np.int32) #이미지 파일을 열어서\n",
    "        imgs[idx,:,:,:]=img    # idx번째로 이미지를 추가한다. \n",
    "        labels[idx]=0   # 방금 추가한 이미지의 클래스를 가위로 설정한다\n",
    "        idx=idx+1 #사진을 추가했으므로 INDEX를 증가해준다. \n",
    "        \n",
    "        #이하 동일\n",
    "\n",
    "    for file in glob.iglob(img_path+'/RRR/*.jpg'):\n",
    "        img = np.array(Image.open(file),dtype=np.int32)\n",
    "        imgs[idx,:,:,:]=img \n",
    "        labels[idx]=1\n",
    "        idx=idx+1       \n",
    "    \n",
    "    for file in glob.iglob(img_path+'/PPP/*.jpg'):\n",
    "        img = np.array(Image.open(file),dtype=np.int32)\n",
    "        imgs[idx,:,:,:]=img    # 데이터 영역에 이미지 행렬을 복사\n",
    "        labels[idx]=2   # 보 : 2\n",
    "        idx=idx+1\n",
    "        \n",
    "    print(\"학습데이터(x_train)의 이미지 개수는\",idx,\"입니다.\")\n",
    "    return imgs, labels\n",
    "\n",
    "###################################################################################\n",
    "\n",
    "\n",
    "image_dir_path = os.getenv(\"HOME\") + \"/rsp\" #이미지 파일을 불러올 경로 설정\n",
    "\n",
    "(x_train, y_train)=load_data(image_dir_path) #로드 함수 실행\n",
    "\n",
    "x_train_norm = x_train/255.0   # 0-255 >>> 0-1 normalization\n",
    "\n"
   ]
  }
 ],
 "metadata": {
  "kernelspec": {
   "display_name": "Aiffel",
   "language": "python",
   "name": "aiffel"
  },
  "language_info": {
   "codemirror_mode": {
    "name": "ipython",
    "version": 3
   },
   "file_extension": ".py",
   "mimetype": "text/x-python",
   "name": "python",
   "nbconvert_exporter": "python",
   "pygments_lexer": "ipython3",
   "version": "3.7.6"
  }
 },
 "nbformat": 4,
 "nbformat_minor": 4
}
